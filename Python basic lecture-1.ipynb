{
 "cells": [
  {
   "cell_type": "markdown",
   "id": "6dc415ad",
   "metadata": {},
   "source": [
    "# BASIC"
   ]
  },
  {
   "cell_type": "code",
   "execution_count": 4,
   "id": "0a525e7f",
   "metadata": {
    "scrolled": true
   },
   "outputs": [
    {
     "data": {
      "text/plain": [
       "9"
      ]
     },
     "execution_count": 4,
     "metadata": {},
     "output_type": "execute_result"
    }
   ],
   "source": [
    "1+8"
   ]
  },
  {
   "cell_type": "code",
   "execution_count": 3,
   "id": "0665e4ff",
   "metadata": {},
   "outputs": [
    {
     "data": {
      "text/plain": [
       "'Gangaram'"
      ]
     },
     "execution_count": 3,
     "metadata": {},
     "output_type": "execute_result"
    }
   ],
   "source": [
    "\"Gangaram\""
   ]
  },
  {
   "cell_type": "code",
   "execution_count": 10,
   "id": "def81d85",
   "metadata": {},
   "outputs": [
    {
     "data": {
      "text/plain": [
       "26500"
      ]
     },
     "execution_count": 10,
     "metadata": {},
     "output_type": "execute_result"
    }
   ],
   "source": [
    "10000+6000+6000+4500"
   ]
  },
  {
   "cell_type": "code",
   "execution_count": 11,
   "id": "c7e0970f",
   "metadata": {},
   "outputs": [
    {
     "name": "stdout",
     "output_type": "stream",
     "text": [
      "The Zen of Python, by Tim Peters\n",
      "\n",
      "Beautiful is better than ugly.\n",
      "Explicit is better than implicit.\n",
      "Simple is better than complex.\n",
      "Complex is better than complicated.\n",
      "Flat is better than nested.\n",
      "Sparse is better than dense.\n",
      "Readability counts.\n",
      "Special cases aren't special enough to break the rules.\n",
      "Although practicality beats purity.\n",
      "Errors should never pass silently.\n",
      "Unless explicitly silenced.\n",
      "In the face of ambiguity, refuse the temptation to guess.\n",
      "There should be one-- and preferably only one --obvious way to do it.\n",
      "Although that way may not be obvious at first unless you're Dutch.\n",
      "Now is better than never.\n",
      "Although never is often better than *right* now.\n",
      "If the implementation is hard to explain, it's a bad idea.\n",
      "If the implementation is easy to explain, it may be a good idea.\n",
      "Namespaces are one honking great idea -- let's do more of those!\n"
     ]
    }
   ],
   "source": [
    "import this"
   ]
  },
  {
   "cell_type": "code",
   "execution_count": 17,
   "id": "ec2a8ccc",
   "metadata": {},
   "outputs": [
    {
     "name": "stdout",
     "output_type": "stream",
     "text": [
      "This is my firt programm\n"
     ]
    }
   ],
   "source": [
    "print(\"This is my firt programm\")"
   ]
  },
  {
   "cell_type": "code",
   "execution_count": 19,
   "id": "25c4b27f",
   "metadata": {},
   "outputs": [
    {
     "data": {
      "text/plain": [
       "6"
      ]
     },
     "execution_count": 19,
     "metadata": {},
     "output_type": "execute_result"
    }
   ],
   "source": [
    "1+5"
   ]
  },
  {
   "cell_type": "code",
   "execution_count": 20,
   "id": "82bdd618",
   "metadata": {},
   "outputs": [
    {
     "data": {
      "text/plain": [
       "15.6"
      ]
     },
     "execution_count": 20,
     "metadata": {},
     "output_type": "execute_result"
    }
   ],
   "source": [
    "78/5"
   ]
  },
  {
   "cell_type": "code",
   "execution_count": 23,
   "id": "d66127b4",
   "metadata": {},
   "outputs": [],
   "source": [
    "a=3"
   ]
  },
  {
   "cell_type": "code",
   "execution_count": 24,
   "id": "be0047ad",
   "metadata": {},
   "outputs": [
    {
     "data": {
      "text/plain": [
       "3"
      ]
     },
     "execution_count": 24,
     "metadata": {},
     "output_type": "execute_result"
    }
   ],
   "source": [
    "a"
   ]
  },
  {
   "cell_type": "code",
   "execution_count": 25,
   "id": "7a0b2019",
   "metadata": {},
   "outputs": [
    {
     "data": {
      "text/plain": [
       "int"
      ]
     },
     "execution_count": 25,
     "metadata": {},
     "output_type": "execute_result"
    }
   ],
   "source": [
    "type(a)"
   ]
  },
  {
   "cell_type": "code",
   "execution_count": 26,
   "id": "d731236c",
   "metadata": {},
   "outputs": [],
   "source": [
    "ganga=75"
   ]
  },
  {
   "cell_type": "code",
   "execution_count": 27,
   "id": "e04e15e3",
   "metadata": {},
   "outputs": [],
   "source": [
    "Manisha=85"
   ]
  },
  {
   "cell_type": "code",
   "execution_count": 28,
   "id": "483394f1",
   "metadata": {},
   "outputs": [
    {
     "data": {
      "text/plain": [
       "75"
      ]
     },
     "execution_count": 28,
     "metadata": {},
     "output_type": "execute_result"
    }
   ],
   "source": [
    "ganga"
   ]
  },
  {
   "cell_type": "code",
   "execution_count": 29,
   "id": "b907120a",
   "metadata": {},
   "outputs": [
    {
     "data": {
      "text/plain": [
       "85"
      ]
     },
     "execution_count": 29,
     "metadata": {},
     "output_type": "execute_result"
    }
   ],
   "source": [
    "Manisha"
   ]
  },
  {
   "cell_type": "code",
   "execution_count": 30,
   "id": "9ec1ead5",
   "metadata": {},
   "outputs": [
    {
     "data": {
      "text/plain": [
       "int"
      ]
     },
     "execution_count": 30,
     "metadata": {},
     "output_type": "execute_result"
    }
   ],
   "source": [
    "type(ganga)"
   ]
  },
  {
   "cell_type": "code",
   "execution_count": 31,
   "id": "1208aa0e",
   "metadata": {},
   "outputs": [],
   "source": [
    "b=(\"Gangaram gawhane is smart\")"
   ]
  },
  {
   "cell_type": "code",
   "execution_count": 32,
   "id": "1a298f24",
   "metadata": {},
   "outputs": [
    {
     "data": {
      "text/plain": [
       "'Gangaram gawhane is smart'"
      ]
     },
     "execution_count": 32,
     "metadata": {},
     "output_type": "execute_result"
    }
   ],
   "source": [
    "b"
   ]
  },
  {
   "cell_type": "code",
   "execution_count": 33,
   "id": "b8e9a03f",
   "metadata": {},
   "outputs": [
    {
     "data": {
      "text/plain": [
       "str"
      ]
     },
     "execution_count": 33,
     "metadata": {},
     "output_type": "execute_result"
    }
   ],
   "source": [
    "type(b)"
   ]
  },
  {
   "cell_type": "code",
   "execution_count": 34,
   "id": "1be415dc",
   "metadata": {},
   "outputs": [],
   "source": [
    "c=87.3"
   ]
  },
  {
   "cell_type": "code",
   "execution_count": 35,
   "id": "480c9695",
   "metadata": {},
   "outputs": [
    {
     "data": {
      "text/plain": [
       "87.3"
      ]
     },
     "execution_count": 35,
     "metadata": {},
     "output_type": "execute_result"
    }
   ],
   "source": [
    "c"
   ]
  },
  {
   "cell_type": "code",
   "execution_count": 38,
   "id": "e10b2827",
   "metadata": {},
   "outputs": [
    {
     "data": {
      "text/plain": [
       "float"
      ]
     },
     "execution_count": 38,
     "metadata": {},
     "output_type": "execute_result"
    }
   ],
   "source": [
    "type (c)"
   ]
  },
  {
   "cell_type": "code",
   "execution_count": 40,
   "id": "d17e339e",
   "metadata": {},
   "outputs": [],
   "source": [
    "d=5+6j"
   ]
  },
  {
   "cell_type": "code",
   "execution_count": 41,
   "id": "ef467a27",
   "metadata": {},
   "outputs": [
    {
     "data": {
      "text/plain": [
       "(5+6j)"
      ]
     },
     "execution_count": 41,
     "metadata": {},
     "output_type": "execute_result"
    }
   ],
   "source": [
    "d"
   ]
  },
  {
   "cell_type": "code",
   "execution_count": 43,
   "id": "9887d296",
   "metadata": {},
   "outputs": [
    {
     "data": {
      "text/plain": [
       "complex"
      ]
     },
     "execution_count": 43,
     "metadata": {},
     "output_type": "execute_result"
    }
   ],
   "source": [
    "type(d)"
   ]
  },
  {
   "cell_type": "code",
   "execution_count": 44,
   "id": "b93d313f",
   "metadata": {},
   "outputs": [],
   "source": [
    "e=True\n"
   ]
  },
  {
   "cell_type": "code",
   "execution_count": 45,
   "id": "b02a61d6",
   "metadata": {},
   "outputs": [
    {
     "data": {
      "text/plain": [
       "bool"
      ]
     },
     "execution_count": 45,
     "metadata": {},
     "output_type": "execute_result"
    }
   ],
   "source": [
    "type(e)"
   ]
  },
  {
   "cell_type": "code",
   "execution_count": 47,
   "id": "77002c2e",
   "metadata": {},
   "outputs": [],
   "source": [
    "_f=4\n"
   ]
  },
  {
   "cell_type": "code",
   "execution_count": 49,
   "id": "ee8ba30f",
   "metadata": {},
   "outputs": [],
   "source": [
    "a=6"
   ]
  },
  {
   "cell_type": "code",
   "execution_count": 50,
   "id": "1c7eb931",
   "metadata": {},
   "outputs": [
    {
     "data": {
      "text/plain": [
       "6"
      ]
     },
     "execution_count": 50,
     "metadata": {},
     "output_type": "execute_result"
    }
   ],
   "source": [
    "a"
   ]
  },
  {
   "cell_type": "code",
   "execution_count": 55,
   "id": "d8992845",
   "metadata": {},
   "outputs": [],
   "source": [
    "a=(\"ganga\")\n",
    "b=9\n",
    "c=True\n",
    "d=6+7j\n"
   ]
  },
  {
   "cell_type": "code",
   "execution_count": 56,
   "id": "6a59e428",
   "metadata": {},
   "outputs": [
    {
     "data": {
      "text/plain": [
       "('ganga', 9, True, (6+7j))"
      ]
     },
     "execution_count": 56,
     "metadata": {},
     "output_type": "execute_result"
    }
   ],
   "source": [
    "a,b,c,d"
   ]
  },
  {
   "cell_type": "code",
   "execution_count": 59,
   "id": "ecbd4c48",
   "metadata": {},
   "outputs": [
    {
     "data": {
      "text/plain": [
       "str"
      ]
     },
     "execution_count": 59,
     "metadata": {},
     "output_type": "execute_result"
    }
   ],
   "source": [
    "type(a)"
   ]
  },
  {
   "cell_type": "code",
   "execution_count": 61,
   "id": "7937380c",
   "metadata": {},
   "outputs": [
    {
     "data": {
      "text/plain": [
       "<function str.capitalize()>"
      ]
     },
     "execution_count": 61,
     "metadata": {},
     "output_type": "execute_result"
    }
   ],
   "source": [
    "a.capitalize"
   ]
  },
  {
   "cell_type": "code",
   "execution_count": 62,
   "id": "eb5f0c93",
   "metadata": {},
   "outputs": [
    {
     "data": {
      "text/plain": [
       "'ganga2'"
      ]
     },
     "execution_count": 62,
     "metadata": {},
     "output_type": "execute_result"
    }
   ],
   "source": [
    "a+\"2\""
   ]
  },
  {
   "cell_type": "code",
   "execution_count": 64,
   "id": "fa5322e2",
   "metadata": {},
   "outputs": [
    {
     "data": {
      "text/plain": [
       "2"
      ]
     },
     "execution_count": 64,
     "metadata": {},
     "output_type": "execute_result"
    }
   ],
   "source": [
    "True+True"
   ]
  },
  {
   "cell_type": "code",
   "execution_count": 65,
   "id": "2e33ea3f",
   "metadata": {},
   "outputs": [
    {
     "data": {
      "text/plain": [
       "1"
      ]
     },
     "execution_count": 65,
     "metadata": {},
     "output_type": "execute_result"
    }
   ],
   "source": [
    "True-False"
   ]
  },
  {
   "cell_type": "code",
   "execution_count": 66,
   "id": "94c89296",
   "metadata": {},
   "outputs": [
    {
     "data": {
      "text/plain": [
       "-1"
      ]
     },
     "execution_count": 66,
     "metadata": {},
     "output_type": "execute_result"
    }
   ],
   "source": [
    "False-True\n"
   ]
  },
  {
   "cell_type": "code",
   "execution_count": 67,
   "id": "4cf527d9",
   "metadata": {},
   "outputs": [
    {
     "data": {
      "text/plain": [
       "3"
      ]
     },
     "execution_count": 67,
     "metadata": {},
     "output_type": "execute_result"
    }
   ],
   "source": [
    "2+True"
   ]
  },
  {
   "cell_type": "code",
   "execution_count": null,
   "id": "9619ccbb",
   "metadata": {},
   "outputs": [],
   "source": [
    "input()"
   ]
  },
  {
   "cell_type": "code",
   "execution_count": null,
   "id": "26209645",
   "metadata": {},
   "outputs": [],
   "source": [
    "Ganram"
   ]
  },
  {
   "cell_type": "code",
   "execution_count": null,
   "id": "248f5943",
   "metadata": {},
   "outputs": [],
   "source": [
    "input()"
   ]
  },
  {
   "cell_type": "code",
   "execution_count": null,
   "id": "aa3f5cee",
   "metadata": {},
   "outputs": [],
   "source": []
  }
 ],
 "metadata": {
  "kernelspec": {
   "display_name": "Python 3 (ipykernel)",
   "language": "python",
   "name": "python3"
  },
  "language_info": {
   "codemirror_mode": {
    "name": "ipython",
    "version": 3
   },
   "file_extension": ".py",
   "mimetype": "text/x-python",
   "name": "python",
   "nbconvert_exporter": "python",
   "pygments_lexer": "ipython3",
   "version": "3.9.7"
  }
 },
 "nbformat": 4,
 "nbformat_minor": 5
}
