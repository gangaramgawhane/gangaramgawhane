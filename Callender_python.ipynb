{
 "cells": [
  {
   "cell_type": "markdown",
   "id": "9a72758b",
   "metadata": {},
   "source": [
    "# logic"
   ]
  },
  {
   "cell_type": "code",
   "execution_count": 1,
   "id": "0fe0b94d",
   "metadata": {},
   "outputs": [],
   "source": [
    "#Year=1\n",
    "#Month=12\n",
    "#Week=52+\n",
    "#Day=365/366\n",
    "#simple year= 365/7=52+1 day (1 odd day)\n",
    "#leap year=365/7= 52+2 day(2 odd day)"
   ]
  },
  {
   "cell_type": "code",
   "execution_count": 8,
   "id": "21a41d33",
   "metadata": {},
   "outputs": [],
   "source": [
    "#which year is leap year\n",
    "# if the year is devisable by 4 then its a leap year\n",
    "#century year should be devided by 400\n",
    "# in 100 year = there are \n",
    "#in 100 year there are 5 odd days \n",
    "#in 200 year there are 3 odd days\n",
    "#in 300 year there are 1 odd days\n",
    "#in 400 year there are 6 odd days+ 1 extra day = 0 odd day \n",
    "# in 2000 - leap year - 0 odd days "
   ]
  },
  {
   "cell_type": "code",
   "execution_count": 12,
   "id": "bb99742e",
   "metadata": {},
   "outputs": [],
   "source": [
    "#M-1\n",
    "#T-2\n",
    "#W-3\n",
    "#T-4\n",
    "#F-5\n",
    "#S-6\n",
    "#S-7"
   ]
  },
  {
   "cell_type": "code",
   "execution_count": 15,
   "id": "eadf10ae",
   "metadata": {},
   "outputs": [],
   "source": [
    "a=1/1/2015\n",
    "# 2014\n",
    "#2000+14-- 0+14/4=3 leap year= 6 odd days+ 11 odd day+ 1 = 18 \n",
    "# if 18/7 = 2 week + 4 days \n",
    "#answer is 4 \n",
    "4 = Thursday\n"
   ]
  },
  {
   "cell_type": "code",
   "execution_count": 16,
   "id": "5af8a849",
   "metadata": {},
   "outputs": [],
   "source": [
    "# 2 oct 1869 - find the day on the given date\n",
    "#1868- completed \n",
    "#so 1868 = 1600+200+68"
   ]
  },
  {
   "cell_type": "code",
   "execution_count": 17,
   "id": "52d550a8",
   "metadata": {},
   "outputs": [
    {
     "data": {
      "text/plain": [
       "17.0"
      ]
     },
     "execution_count": 17,
     "metadata": {},
     "output_type": "execute_result"
    }
   ],
   "source": [
    "68/4"
   ]
  },
  {
   "cell_type": "code",
   "execution_count": 18,
   "id": "a7ee022b",
   "metadata": {},
   "outputs": [
    {
     "data": {
      "text/plain": [
       "85"
      ]
     },
     "execution_count": 18,
     "metadata": {},
     "output_type": "execute_result"
    }
   ],
   "source": [
    "#17 leap year = 34 odd day\n",
    "# 51 = 51 odd day \n",
    "51+34+3"
   ]
  },
  {
   "cell_type": "markdown",
   "id": "38f7e2fe",
   "metadata": {},
   "source": [
    "# Convrting logic into code like a story"
   ]
  },
  {
   "cell_type": "code",
   "execution_count": 1,
   "id": "b6a07615",
   "metadata": {},
   "outputs": [
    {
     "name": "stdout",
     "output_type": "stream",
     "text": [
      "please enter your date in DD/MM/YYYY format 21/12/1991\n"
     ]
    }
   ],
   "source": [
    "date=(input(\"please enter your date in DD/MM/YYYY format \"))"
   ]
  },
  {
   "cell_type": "code",
   "execution_count": 2,
   "id": "72d4d9f9",
   "metadata": {},
   "outputs": [],
   "source": [
    "date=date.replace(\"/\",\"\")"
   ]
  },
  {
   "cell_type": "code",
   "execution_count": 3,
   "id": "dafc624b",
   "metadata": {},
   "outputs": [
    {
     "data": {
      "text/plain": [
       "'21121991'"
      ]
     },
     "execution_count": 3,
     "metadata": {},
     "output_type": "execute_result"
    }
   ],
   "source": [
    "date"
   ]
  },
  {
   "cell_type": "code",
   "execution_count": 4,
   "id": "155a5557",
   "metadata": {},
   "outputs": [
    {
     "data": {
      "text/plain": [
       "str"
      ]
     },
     "execution_count": 4,
     "metadata": {},
     "output_type": "execute_result"
    }
   ],
   "source": [
    "type(date)"
   ]
  },
  {
   "cell_type": "code",
   "execution_count": 6,
   "id": "fbeaa852",
   "metadata": {},
   "outputs": [],
   "source": [
    "date_date=date[0]\n",
    "date_date1=date[1]\n",
    "date_date3=date_date+date_date1"
   ]
  },
  {
   "cell_type": "code",
   "execution_count": 7,
   "id": "9d53442a",
   "metadata": {},
   "outputs": [
    {
     "data": {
      "text/plain": [
       "'21'"
      ]
     },
     "execution_count": 7,
     "metadata": {},
     "output_type": "execute_result"
    }
   ],
   "source": [
    "date_date3"
   ]
  },
  {
   "cell_type": "code",
   "execution_count": 10,
   "id": "f1b51382",
   "metadata": {},
   "outputs": [],
   "source": [
    "month_month=date[2]\n",
    "month_month1=date[3]\n",
    "month=month_month+month_month1"
   ]
  },
  {
   "cell_type": "code",
   "execution_count": 11,
   "id": "f19c93fa",
   "metadata": {},
   "outputs": [
    {
     "data": {
      "text/plain": [
       "'12'"
      ]
     },
     "execution_count": 11,
     "metadata": {},
     "output_type": "execute_result"
    }
   ],
   "source": [
    "month"
   ]
  },
  {
   "cell_type": "code",
   "execution_count": 12,
   "id": "2198eb41",
   "metadata": {},
   "outputs": [],
   "source": [
    "year_year=date[4]\n",
    "year_year1=date[5]\n",
    "year_year2=date[6]\n",
    "year_year3=date[7]\n",
    "year_year4=year_year+year_year1+year_year2+year_year3"
   ]
  },
  {
   "cell_type": "code",
   "execution_count": 13,
   "id": "d56313cc",
   "metadata": {},
   "outputs": [
    {
     "data": {
      "text/plain": [
       "'1991'"
      ]
     },
     "execution_count": 13,
     "metadata": {},
     "output_type": "execute_result"
    }
   ],
   "source": [
    "year_year4"
   ]
  },
  {
   "cell_type": "code",
   "execution_count": 19,
   "id": "1280b3a0",
   "metadata": {},
   "outputs": [],
   "source": [
    "Date_final=int(date_date3)\n",
    "Month_final=int(month)\n",
    "Year_final=int(year_year4)"
   ]
  },
  {
   "cell_type": "code",
   "execution_count": 41,
   "id": "396b3b3d",
   "metadata": {},
   "outputs": [
    {
     "name": "stdout",
     "output_type": "stream",
     "text": [
      "21\n",
      "12\n",
      "1991\n"
     ]
    }
   ],
   "source": [
    "print(Date_final)\n",
    "print(Month_final)\n",
    "print(Year_final)"
   ]
  },
  {
   "cell_type": "code",
   "execution_count": 46,
   "id": "a5f72116",
   "metadata": {},
   "outputs": [],
   "source": [
    "if Year_final>1600:\n",
    "    c=Year_final-1600\n",
    "else:\n",
    "    c=1600-Year_final"
   ]
  },
  {
   "cell_type": "code",
   "execution_count": 47,
   "id": "c12622a0",
   "metadata": {},
   "outputs": [
    {
     "data": {
      "text/plain": [
       "391"
      ]
     },
     "execution_count": 47,
     "metadata": {},
     "output_type": "execute_result"
    }
   ],
   "source": [
    "c"
   ]
  },
  {
   "cell_type": "code",
   "execution_count": 48,
   "id": "4ab2bddf",
   "metadata": {},
   "outputs": [],
   "source": [
    "d=c/4"
   ]
  },
  {
   "cell_type": "code",
   "execution_count": 49,
   "id": "c2ad68b8",
   "metadata": {},
   "outputs": [
    {
     "data": {
      "text/plain": [
       "97.75"
      ]
     },
     "execution_count": 49,
     "metadata": {},
     "output_type": "execute_result"
    }
   ],
   "source": [
    "d"
   ]
  },
  {
   "cell_type": "code",
   "execution_count": null,
   "id": "239e0878",
   "metadata": {},
   "outputs": [],
   "source": []
  }
 ],
 "metadata": {
  "kernelspec": {
   "display_name": "Python 3 (ipykernel)",
   "language": "python",
   "name": "python3"
  },
  "language_info": {
   "codemirror_mode": {
    "name": "ipython",
    "version": 3
   },
   "file_extension": ".py",
   "mimetype": "text/x-python",
   "name": "python",
   "nbconvert_exporter": "python",
   "pygments_lexer": "ipython3",
   "version": "3.9.7"
  }
 },
 "nbformat": 4,
 "nbformat_minor": 5
}
